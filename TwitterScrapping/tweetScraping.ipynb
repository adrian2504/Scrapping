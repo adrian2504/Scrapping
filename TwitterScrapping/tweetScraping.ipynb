{
 "cells": [
  {
   "cell_type": "markdown",
   "metadata": {},
   "source": [
    "## Tweeter Tweets Scrapping for Amazon ##"
   ]
  },
  {
   "cell_type": "code",
   "execution_count": 1,
   "metadata": {},
   "outputs": [],
   "source": [
    "import snscrape.modules.twitter as sntwitter\n",
    "import pandas as pd\n",
    "import numpy as np\n",
    "import neattext as nt\n",
    "import neattext.functions as nfx\n",
    "from wordcloud import WordCloud\n",
    "import matplotlib.pyplot as plt"
   ]
  },
  {
   "cell_type": "code",
   "execution_count": 2,
   "metadata": {},
   "outputs": [],
   "source": [
    "# using snscrape for scrapping our tweets.\n",
    "\n",
    "query = \"Amazon\"\n",
    "tweets = []\n",
    "limit = 1000 # as mentioned in problem statement."
   ]
  },
  {
   "cell_type": "code",
   "execution_count": 3,
   "metadata": {},
   "outputs": [],
   "source": [
    "# setting limit to 1000 as mentioned in problem statement.\n",
    "\n",
    "\n",
    "for tweet in sntwitter.TwitterSearchScraper(query).get_items():\n",
    "\n",
    "    #print(vars(tweet))\n",
    "    #break\n",
    "\n",
    "    if len(tweets) == limit:\n",
    "        break\n",
    "    else:\n",
    "        tweets.append([tweet.date, tweet.likeCount, tweet.sourceLabel, tweet.user.username, tweet.content])\n",
    "        # selecting our features based on which we will analyze the tweets"
   ]
  },
  {
   "cell_type": "code",
   "execution_count": 4,
   "metadata": {},
   "outputs": [
    {
     "name": "stdout",
     "output_type": "stream",
     "text": [
      "                         Date  Number of Likes          Source of Tweet  \\\n",
      "0   2022-10-28 06:09:15+00:00                0          Twitter Web App   \n",
      "1   2022-10-28 06:09:15+00:00                0          Twitter Web App   \n",
      "2   2022-10-28 06:09:15+00:00                0  あに特製 量子乱数(本当)ツイート術式 肆ノ型   \n",
      "3   2022-10-28 06:09:13+00:00                0       Twitter for iPhone   \n",
      "4   2022-10-28 06:09:13+00:00                0       Twitter for iPhone   \n",
      "..                        ...              ...                      ...   \n",
      "995 2022-10-28 06:02:24+00:00                0        EcoBiz-1_Info_App   \n",
      "996 2022-10-28 06:02:23+00:00                0                tokyocool   \n",
      "997 2022-10-28 06:02:23+00:00                0              collectbook   \n",
      "998 2022-10-28 06:02:23+00:00                0          Twitter Web App   \n",
      "999 2022-10-28 06:02:22+00:00                0                    ぱぱらっち   \n",
      "\n",
      "                User                                              Tweet  \n",
      "0       lilybylauren  @maned_old They help keep the blue light from ...  \n",
      "1         a_ayayuuua  予約 2/28\\n\\nウマ娘 プリティーダービー\\nツインウエハース 第4R\\n20個入 食...  \n",
      "2     aniyduodecimum  Amazonギフトカード(Eメールタイプ) テキストメッセージにも送信可\\nhttps://...  \n",
      "3       FattyCat_Mio  毎日Amazonだのなんだの私宛に大量に届く通販やプロモグッズを整理してくれているアパートの...  \n",
      "4         darla_1994  “If we love them &amp; respect them... their m...  \n",
      "..               ...                                                ...  \n",
      "995      ecobiz_info  ⚡10月28日  新着ランキング⚡\\n\\n未来をひらく81の思考\\n工藤公康（著）\\n\\n＼...  \n",
      "996    5bearmjmjmjmj  🔴気になる速報🔴\\n\\n🔴【Amazon限定】 Dell S2421HS 23.8インチ モ...  \n",
      "997      Collectbook  《Subtitle/Official髭男dism｜￥250》（Amazon デジタルミュージ...  \n",
      "998     Rose92909188  Interesse 9 Pack Dust Bags for Handbags @ Amaz...  \n",
      "999  MTMhhbxbB54Wkpa  Amazon 良かったら見てください\\n\\nApple 2021 AirPods（第3世代）...  \n",
      "\n",
      "[1000 rows x 5 columns]\n"
     ]
    }
   ],
   "source": [
    "# selecting most likely to be used features for analysis.\n",
    "\n",
    "df = pd.DataFrame(tweets, columns=['Date', \"Number of Likes\",\"Source of Tweet\",'User', 'Tweet'])\n",
    "print(df)"
   ]
  },
  {
   "cell_type": "code",
   "execution_count": 5,
   "metadata": {},
   "outputs": [
    {
     "name": "stdout",
     "output_type": "stream",
     "text": [
      "length of data is 1000\n",
      "shape of data is (1000, 5)\n"
     ]
    }
   ],
   "source": [
    "print('length of data is', len(df))\n",
    "print('shape of data is', df. shape)"
   ]
  },
  {
   "cell_type": "code",
   "execution_count": 6,
   "metadata": {},
   "outputs": [
    {
     "name": "stdout",
     "output_type": "stream",
     "text": [
      "Data Info\n",
      "<class 'pandas.core.frame.DataFrame'>\n",
      "RangeIndex: 1000 entries, 0 to 999\n",
      "Data columns (total 5 columns):\n",
      " #   Column           Non-Null Count  Dtype              \n",
      "---  ------           --------------  -----              \n",
      " 0   Date             1000 non-null   datetime64[ns, UTC]\n",
      " 1   Number of Likes  1000 non-null   int64              \n",
      " 2   Source of Tweet  1000 non-null   object             \n",
      " 3   User             1000 non-null   object             \n",
      " 4   Tweet            1000 non-null   object             \n",
      "dtypes: datetime64[ns, UTC](1), int64(1), object(3)\n",
      "memory usage: 39.2+ KB\n",
      "None\n",
      "\n",
      "\n",
      "DataTypes\n",
      "Date               datetime64[ns, UTC]\n",
      "Number of Likes                  int64\n",
      "Source of Tweet                 object\n",
      "User                            object\n",
      "Tweet                           object\n",
      "dtype: object\n"
     ]
    }
   ],
   "source": [
    "print(\"Data Info\")\n",
    "print(df.info())\n",
    "print(\"\\n\")\n",
    "print(\"DataTypes\")\n",
    "print(df.dtypes)"
   ]
  },
  {
   "cell_type": "code",
   "execution_count": 7,
   "metadata": {},
   "outputs": [
    {
     "data": {
      "text/plain": [
       "0"
      ]
     },
     "execution_count": 7,
     "metadata": {},
     "output_type": "execute_result"
    }
   ],
   "source": [
    "## checking for null\n",
    "np.sum(df.isnull().any(axis=1))"
   ]
  },
  {
   "cell_type": "code",
   "execution_count": 8,
   "metadata": {},
   "outputs": [
    {
     "data": {
      "text/plain": [
       "'調査兵団資料館 ATC サンシャイン60展望台 限定  進撃の巨人 ビニールマスコット  調査兵団 非売品 リヴァイ 兵長 マスコット https://t.co/g429I0lgQP amazonさんから'"
      ]
     },
     "execution_count": 8,
     "metadata": {},
     "output_type": "execute_result"
    }
   ],
   "source": [
    "# Checking random tweets how they are presented \n",
    "df.iloc[5]['Tweet']"
   ]
  },
  {
   "cell_type": "markdown",
   "metadata": {},
   "source": [
    "# Data Preprocessing"
   ]
  },
  {
   "cell_type": "markdown",
   "metadata": {},
   "source": [
    "### Cleaning the tweets\n",
    "\n",
    "Removing using handles and mentions \\\n",
    "Removing Hashtags \\\n",
    "Removing stopwords \\\n",
    "Removing special character\n",
    "Removing punctuations"
   ]
  },
  {
   "cell_type": "code",
   "execution_count": 9,
   "metadata": {},
   "outputs": [
    {
     "data": {
      "text/plain": [
       "['AUTOMATED_READ_INDEX',\n",
       " 'BTC_ADDRESS_REGEX',\n",
       " 'CONTRACTIONS_DICT',\n",
       " 'CURRENCY_REGEX',\n",
       " 'CURRENCY_SYMB_REGEX',\n",
       " 'Callable',\n",
       " 'Counter',\n",
       " 'CreditCard_REGEX',\n",
       " 'DATE_REGEX',\n",
       " 'EMAIL_REGEX',\n",
       " 'EMOJI_REGEX',\n",
       " 'FUNCTORS_WORDLIST',\n",
       " 'HASTAG_REGEX',\n",
       " 'HTML_TAGS_REGEX',\n",
       " 'List',\n",
       " 'MASTERCard_REGEX',\n",
       " 'MD5_SHA_REGEX',\n",
       " 'MOST_COMMON_PUNCT_REGEX',\n",
       " 'NUMBERS_REGEX',\n",
       " 'PHONE_REGEX',\n",
       " 'PUNCT_REGEX',\n",
       " 'PoBOX_REGEX',\n",
       " 'SPECIAL_CHARACTERS_REGEX',\n",
       " 'STOPWORDS',\n",
       " 'STOPWORDS_de',\n",
       " 'STOPWORDS_en',\n",
       " 'STOPWORDS_es',\n",
       " 'STOPWORDS_fr',\n",
       " 'STOPWORDS_ru',\n",
       " 'STOPWORDS_yo',\n",
       " 'STREET_ADDRESS_REGEX',\n",
       " 'TextCleaner',\n",
       " 'TextExtractor',\n",
       " 'TextFrame',\n",
       " 'TextMetrics',\n",
       " 'TextPipeline',\n",
       " 'Tuple',\n",
       " 'URL_PATTERN',\n",
       " 'USER_HANDLES_REGEX',\n",
       " 'VISACard_REGEX',\n",
       " 'ZIP_REGEX',\n",
       " '__builtins__',\n",
       " '__cached__',\n",
       " '__doc__',\n",
       " '__file__',\n",
       " '__loader__',\n",
       " '__name__',\n",
       " '__package__',\n",
       " '__path__',\n",
       " '__spec__',\n",
       " '__version__',\n",
       " 'clean_text',\n",
       " 'defaultdict',\n",
       " 'digit2words',\n",
       " 'emoji_explainer',\n",
       " 'emojify',\n",
       " 'explainer',\n",
       " 'extract_btc_address',\n",
       " 'extract_currencies',\n",
       " 'extract_currency_symbols',\n",
       " 'extract_dates',\n",
       " 'extract_emails',\n",
       " 'extract_emojis',\n",
       " 'extract_hashtags',\n",
       " 'extract_html_tags',\n",
       " 'extract_mastercard_addr',\n",
       " 'extract_md5sha',\n",
       " 'extract_numbers',\n",
       " 'extract_pattern',\n",
       " 'extract_phone_numbers',\n",
       " 'extract_postoffice_box',\n",
       " 'extract_shortwords',\n",
       " 'extract_special_characters',\n",
       " 'extract_stopwords',\n",
       " 'extract_street_address',\n",
       " 'extract_terms_in_bracket',\n",
       " 'extract_urls',\n",
       " 'extract_userhandles',\n",
       " 'extract_visacard_addr',\n",
       " 'fix_contractions',\n",
       " 'functions',\n",
       " 'generate_sentence',\n",
       " 'hamming_distance',\n",
       " 'inverse_df',\n",
       " 'lexical_richness',\n",
       " 'markov_chain',\n",
       " 'math',\n",
       " 'neattext',\n",
       " 'nlargest',\n",
       " 'normalize',\n",
       " 'num2words',\n",
       " 'pattern_data',\n",
       " 'pipeline',\n",
       " 'random',\n",
       " 're',\n",
       " 'read_txt',\n",
       " 'remove_accents',\n",
       " 'remove_bad_quotes',\n",
       " 'remove_btc_address',\n",
       " 'remove_currencies',\n",
       " 'remove_currency_symbols',\n",
       " 'remove_custom_pattern',\n",
       " 'remove_custom_words',\n",
       " 'remove_dates',\n",
       " 'remove_emails',\n",
       " 'remove_emojis',\n",
       " 'remove_hashtags',\n",
       " 'remove_html_tags',\n",
       " 'remove_mastercard_addr',\n",
       " 'remove_md5sha',\n",
       " 'remove_multiple_spaces',\n",
       " 'remove_non_ascii',\n",
       " 'remove_numbers',\n",
       " 'remove_phone_numbers',\n",
       " 'remove_postoffice_box',\n",
       " 'remove_puncts',\n",
       " 'remove_punctuations',\n",
       " 'remove_shortwords',\n",
       " 'remove_special_characters',\n",
       " 'remove_stopwords',\n",
       " 'remove_street_address',\n",
       " 'remove_terms_in_bracket',\n",
       " 'remove_urls',\n",
       " 'remove_userhandles',\n",
       " 'remove_visacard_addr',\n",
       " 'replace_bad_quotes',\n",
       " 'replace_currencies',\n",
       " 'replace_currency_symbols',\n",
       " 'replace_dates',\n",
       " 'replace_emails',\n",
       " 'replace_emojis',\n",
       " 'replace_numbers',\n",
       " 'replace_phone_numbers',\n",
       " 'replace_special_characters',\n",
       " 'replace_term',\n",
       " 'replace_urls',\n",
       " 'string',\n",
       " 'term_freq',\n",
       " 'to_txt',\n",
       " 'unicode_2_emoji',\n",
       " 'unicodedata',\n",
       " 'word_freq',\n",
       " 'word_length_freq']"
      ]
     },
     "execution_count": 9,
     "metadata": {},
     "output_type": "execute_result"
    }
   ],
   "source": [
    "# Methods/ Attributes of nt\n",
    "dir(nt)"
   ]
  },
  {
   "cell_type": "code",
   "execution_count": 10,
   "metadata": {},
   "outputs": [
    {
     "data": {
      "text/plain": [
       "['BTC_ADDRESS_REGEX',\n",
       " 'CURRENCY_REGEX',\n",
       " 'CURRENCY_SYMB_REGEX',\n",
       " 'Counter',\n",
       " 'DATE_REGEX',\n",
       " 'EMAIL_REGEX',\n",
       " 'EMOJI_REGEX',\n",
       " 'HASTAG_REGEX',\n",
       " 'MASTERCard_REGEX',\n",
       " 'MD5_SHA_REGEX',\n",
       " 'MOST_COMMON_PUNCT_REGEX',\n",
       " 'NUMBERS_REGEX',\n",
       " 'PHONE_REGEX',\n",
       " 'PoBOX_REGEX',\n",
       " 'SPECIAL_CHARACTERS_REGEX',\n",
       " 'STOPWORDS',\n",
       " 'STOPWORDS_de',\n",
       " 'STOPWORDS_en',\n",
       " 'STOPWORDS_es',\n",
       " 'STOPWORDS_fr',\n",
       " 'STOPWORDS_ru',\n",
       " 'STOPWORDS_yo',\n",
       " 'STREET_ADDRESS_REGEX',\n",
       " 'TextFrame',\n",
       " 'URL_PATTERN',\n",
       " 'USER_HANDLES_REGEX',\n",
       " 'VISACard_REGEX',\n",
       " '__builtins__',\n",
       " '__cached__',\n",
       " '__doc__',\n",
       " '__file__',\n",
       " '__generate_text',\n",
       " '__loader__',\n",
       " '__name__',\n",
       " '__numbers_dict',\n",
       " '__package__',\n",
       " '__spec__',\n",
       " '_lex_richness_herdan',\n",
       " '_lex_richness_maas_ttr',\n",
       " 'clean_text',\n",
       " 'defaultdict',\n",
       " 'digit2words',\n",
       " 'extract_btc_address',\n",
       " 'extract_currencies',\n",
       " 'extract_currency_symbols',\n",
       " 'extract_dates',\n",
       " 'extract_emails',\n",
       " 'extract_emojis',\n",
       " 'extract_hashtags',\n",
       " 'extract_html_tags',\n",
       " 'extract_mastercard_addr',\n",
       " 'extract_md5sha',\n",
       " 'extract_numbers',\n",
       " 'extract_pattern',\n",
       " 'extract_phone_numbers',\n",
       " 'extract_postoffice_box',\n",
       " 'extract_shortwords',\n",
       " 'extract_special_characters',\n",
       " 'extract_stopwords',\n",
       " 'extract_street_address',\n",
       " 'extract_terms_in_bracket',\n",
       " 'extract_urls',\n",
       " 'extract_userhandles',\n",
       " 'extract_visacard_addr',\n",
       " 'fix_contractions',\n",
       " 'generate_sentence',\n",
       " 'hamming_distance',\n",
       " 'inverse_df',\n",
       " 'lexical_richness',\n",
       " 'markov_chain',\n",
       " 'math',\n",
       " 'nlargest',\n",
       " 'normalize',\n",
       " 'num2words',\n",
       " 'random',\n",
       " 're',\n",
       " 'read_txt',\n",
       " 'remove_accents',\n",
       " 'remove_bad_quotes',\n",
       " 'remove_btc_address',\n",
       " 'remove_currencies',\n",
       " 'remove_currency_symbols',\n",
       " 'remove_custom_pattern',\n",
       " 'remove_custom_words',\n",
       " 'remove_dates',\n",
       " 'remove_emails',\n",
       " 'remove_emojis',\n",
       " 'remove_hashtags',\n",
       " 'remove_html_tags',\n",
       " 'remove_mastercard_addr',\n",
       " 'remove_md5sha',\n",
       " 'remove_multiple_spaces',\n",
       " 'remove_non_ascii',\n",
       " 'remove_numbers',\n",
       " 'remove_phone_numbers',\n",
       " 'remove_postoffice_box',\n",
       " 'remove_puncts',\n",
       " 'remove_punctuations',\n",
       " 'remove_shortwords',\n",
       " 'remove_special_characters',\n",
       " 'remove_stopwords',\n",
       " 'remove_street_address',\n",
       " 'remove_terms_in_bracket',\n",
       " 'remove_urls',\n",
       " 'remove_userhandles',\n",
       " 'remove_visacard_addr',\n",
       " 'replace_bad_quotes',\n",
       " 'replace_currencies',\n",
       " 'replace_currency_symbols',\n",
       " 'replace_dates',\n",
       " 'replace_emails',\n",
       " 'replace_emojis',\n",
       " 'replace_numbers',\n",
       " 'replace_phone_numbers',\n",
       " 'replace_special_characters',\n",
       " 'replace_term',\n",
       " 'replace_urls',\n",
       " 'string',\n",
       " 'term_freq',\n",
       " 'to_txt',\n",
       " 'unicodedata',\n",
       " 'word_freq',\n",
       " 'word_length_freq']"
      ]
     },
     "execution_count": 10,
     "metadata": {},
     "output_type": "execute_result"
    }
   ],
   "source": [
    "# Methods/ Attributes of nfx\n",
    "\n",
    "dir(nfx)"
   ]
  },
  {
   "cell_type": "markdown",
   "metadata": {},
   "source": [
    "## Text cleaning \n",
    "### For purpouse of this test and save compute resource I'll run it on a single text, this can be looped and applied to the entire dataset we have\n",
    "\n",
    "### 2 methods used"
   ]
  },
  {
   "cell_type": "code",
   "execution_count": 24,
   "metadata": {},
   "outputs": [],
   "source": [
    "#str = df.iloc[320]['Tweet']\n",
    "#The above takes the tweet from realtime but it changes every minute so to have the desired string under consideration we are setting it mannually.\n",
    "str1 = 'TWO PC SOLAR FLASHLIGHTS  BIG PRICE DROP  NO CODE @user123 @meme12  https://t.co/7uvMkfHFpc  ⭐️  PROMO CAN END AT ANY TIME (AD) #amazon #buying #sales  As an Amazon Associate, I may earn from qualifying pur\\n\\n More deals at https://t.co/qPrTtMFzqN https://t.co/g7rPb13zf9'"
   ]
  },
  {
   "cell_type": "code",
   "execution_count": 25,
   "metadata": {},
   "outputs": [
    {
     "name": "stdout",
     "output_type": "stream",
     "text": [
      "Key      Value          \n",
      "Length  : 270            \n",
      "vowels  : 61             \n",
      "consonants: 129            \n",
      "stopwords: 12             \n",
      "punctuations: 20             \n",
      "special_char: 23             \n",
      "tokens(whitespace): 38             \n",
      "tokens(words): 46             \n"
     ]
    }
   ],
   "source": [
    "# 1st method: using Textframe\n",
    "\n",
    "docx = nt.TextFrame(str1)\n",
    "docx.describe()"
   ]
  },
  {
   "cell_type": "code",
   "execution_count": 26,
   "metadata": {},
   "outputs": [
    {
     "name": "stdout",
     "output_type": "stream",
     "text": [
      "TWO PC SOL\n",
      "g7rPb13zf9\n"
     ]
    }
   ],
   "source": [
    "# reviewing the first 10 words\n",
    "print(docx.head(10))\n",
    "print(docx.tail(10))"
   ]
  },
  {
   "cell_type": "code",
   "execution_count": 27,
   "metadata": {},
   "outputs": [
    {
     "data": {
      "text/plain": [
       "'PC SOLAR FLASHLIGHTS BIG PRICE DROP CODE @user123 @meme12 https://t.co/7uvMkfHFpc ⭐️ PROMO END TIME (AD) #amazon #buying #sales Amazon Associate, earn qualifying pur deals https://t.co/qPrTtMFzqN https://t.co/g7rPb13zf9'"
      ]
     },
     "execution_count": 27,
     "metadata": {},
     "output_type": "execute_result"
    }
   ],
   "source": [
    "# Now we will remove stop words.\n",
    "\n",
    "docx.remove_stopwords().text"
   ]
  },
  {
   "cell_type": "code",
   "execution_count": 28,
   "metadata": {},
   "outputs": [
    {
     "name": "stdout",
     "output_type": "stream",
     "text": [
      "PC SOLAR FLASHLIGHTS BIG PRICE DROP CODE @user123 @meme12 https://tco/7uvMkfHFpc ⭐️ PROMO END TIME (AD) #amazon #buying #sales Amazon Associate earn qualifying pur deals https://tco/qPrTtMFzqN https://tco/g7rPb13zf9\n",
      "\n",
      "PC SOLAR FLASHLIGHTS BIG PRICE DROP CODE user123 meme12 httpstco7uvMkfHFpc ⭐️ PROMO END TIME AD amazon buying sales Amazon Associate earn qualifying pur deals httpstcoqPrTtMFzqN httpstcog7rPb13zf9\n"
     ]
    }
   ],
   "source": [
    "# Now we will remove Punctuations\n",
    "\n",
    "print(docx.remove_puncts(most_common=True).text)\n",
    "print()\n",
    "print(docx.remove_puncts(most_common=False).text)"
   ]
  },
  {
   "cell_type": "code",
   "execution_count": 29,
   "metadata": {},
   "outputs": [
    {
     "name": "stdout",
     "output_type": "stream",
     "text": [
      "TWO PC SOLAR FLASHLIGHTS  BIG PRICE DROP  NO CODE      https://t.co/7uvMkfHFpc  ⭐️  PROMO CAN END AT ANY TIME (AD) #amazon #buying #sales  As an Amazon Associate, I may earn from qualifying pur\n",
      "\n",
      " More deals at https://t.co/qPrTtMFzqN https://t.co/g7rPb13zf9\n",
      "TWO PC SOLAR FLASHLIGHTS  BIG PRICE DROP  NO CODE @user123 @meme12  https://t.co/7uvMkfHFpc  ⭐️  PROMO CAN END AT ANY TIME (AD)        As an Amazon Associate, I may earn from qualifying pur\n",
      "\n",
      " More deals at https://t.co/qPrTtMFzqN https://t.co/g7rPb13zf9\n",
      "TWO PC SOLAR FLASHLIGHTS  BIG PRICE DROP  NO CODE user123 meme12  httpstco7uvMkfHFpc    PROMO CAN END AT ANY TIME AD amazon buying sales  As an Amazon Associate I may earn from qualifying pur More deals at httpstcoqPrTtMFzqN httpstcog7rPb13zf9\n"
     ]
    }
   ],
   "source": [
    "## 2nd method: removing userhandles / mentions / hastags\n",
    "\n",
    "print(nfx.remove_userhandles(str1)) \n",
    "print(nfx.remove_hashtags(str1))\n",
    "print(nfx.remove_special_characters(str1))"
   ]
  },
  {
   "cell_type": "code",
   "execution_count": 30,
   "metadata": {},
   "outputs": [],
   "source": [
    "## remove stopwords\n",
    "\n",
    "str1 = nfx.remove_stopwords(docx.text)"
   ]
  },
  {
   "cell_type": "code",
   "execution_count": 31,
   "metadata": {},
   "outputs": [
    {
     "data": {
      "text/plain": [
       "'pc solar flashlights big price drop code user123 meme12 httpstco7uvmkfhfpc promo end time ad amazon buying sales amazon associate earn qualifying pur deals httpstcoqprttmfzqn httpstcog7rpb13zf9'"
      ]
     },
     "execution_count": 31,
     "metadata": {},
     "output_type": "execute_result"
    }
   ],
   "source": [
    "str1 = nfx.clean_text(str1)\n",
    "str1"
   ]
  },
  {
   "cell_type": "markdown",
   "metadata": {},
   "source": [
    "## Text Extracting\n",
    "\n",
    "### Tokenization"
   ]
  },
  {
   "cell_type": "code",
   "execution_count": 32,
   "metadata": {},
   "outputs": [
    {
     "data": {
      "text/plain": [
       "['pc',\n",
       " 'solar',\n",
       " 'flashlights',\n",
       " 'big',\n",
       " 'price',\n",
       " 'drop',\n",
       " 'code',\n",
       " 'user123',\n",
       " 'meme12',\n",
       " 'httpstco7uvmkfhfpc',\n",
       " 'promo',\n",
       " 'end',\n",
       " 'time',\n",
       " 'ad',\n",
       " 'amazon',\n",
       " 'buying',\n",
       " 'sales',\n",
       " 'amazon',\n",
       " 'associate',\n",
       " 'earn',\n",
       " 'qualifying',\n",
       " 'pur',\n",
       " 'deals',\n",
       " 'httpstcoqprttmfzqn',\n",
       " 'httpstcog7rpb13zf9']"
      ]
     },
     "execution_count": 32,
     "metadata": {},
     "output_type": "execute_result"
    }
   ],
   "source": [
    "from nltk.tokenize import word_tokenize\n",
    "str2 = word_tokenize(str1)\n",
    "str2"
   ]
  },
  {
   "cell_type": "markdown",
   "metadata": {},
   "source": [
    "## Stemming"
   ]
  },
  {
   "cell_type": "code",
   "execution_count": 33,
   "metadata": {},
   "outputs": [
    {
     "name": "stdout",
     "output_type": "stream",
     "text": [
      "['pc', 'solar', 'flashlight', 'big', 'price', 'drop', 'code', 'user123', 'meme12', 'httpstco7uvmkfhfpc', 'promo', 'end', 'time', 'ad', 'amazon', 'buy', 'sale', 'amazon', 'associ', 'earn', 'qualifi', 'pur', 'deal', 'httpstcoqprttmfzqn', 'httpstcog7rpb13zf9']\n"
     ]
    }
   ],
   "source": [
    "import nltk\n",
    "st = nltk.PorterStemmer()\n",
    "#str3= st.stem(str2)\n",
    "#str3\n",
    "\n",
    "stemstr=[]\n",
    "for w in str2:\n",
    "    stemstr.append(st.stem(w))\n",
    "    #print(w, \" : \", lrt)\n",
    "    \n",
    "\n",
    "print(stemstr)"
   ]
  },
  {
   "cell_type": "code",
   "execution_count": 34,
   "metadata": {},
   "outputs": [
    {
     "data": {
      "text/plain": [
       "<matplotlib.image.AxesImage at 0x199a4041ee0>"
      ]
     },
     "execution_count": 34,
     "metadata": {},
     "output_type": "execute_result"
    },
    {
     "data": {
      "image/png": "[encoded data removed]",
      "text/plain": [
       "<Figure size 640x480 with 1 Axes>"
      ]
     },
     "metadata": {},
     "output_type": "display_data"
    }
   ],
   "source": [
    "wc = WordCloud(max_words = 1000 , width = 1600 , height = 800,\n",
    "               collocations=False).generate(\" \".join(stemstr))\n",
    "plt.imshow(wc)"
   ]
  },
  {
   "cell_type": "markdown",
   "metadata": {},
   "source": [
    "## After this comes the analysis part where we can perform sentiment analysis and other pattern discovery."
   ]
  },
  {
   "cell_type": "code",
   "execution_count": null,
   "metadata": {},
   "outputs": [],
   "source": []
  }
 ],
 "metadata": {
  "kernelspec": {
   "display_name": "Python 3 (ipykernel)",
   "language": "python",
   "name": "python3"
  },
  "language_info": {
   "codemirror_mode": {
    "name": "ipython",
    "version": 3
   },
   "file_extension": ".py",
   "mimetype": "text/x-python",
   "name": "python",
   "nbconvert_exporter": "python",
   "pygments_lexer": "ipython3",
   "version": "3.9.13"
  }
 },
 "nbformat": 4,
 "nbformat_minor": 4
}
